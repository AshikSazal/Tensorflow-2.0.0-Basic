{
 "cells": [
  {
   "cell_type": "code",
   "execution_count": 1,
   "metadata": {},
   "outputs": [],
   "source": [
    "import pandas as pd\n",
    "import numpy as np\n",
    "import tensorflow as tf\n",
    "from sklearn.model_selection import train_test_split\n",
    "from sklearn.metrics import classification_report\n",
    "\n",
    "tf.compat.v1.disable_eager_execution()"
   ]
  },
  {
   "cell_type": "code",
   "execution_count": 2,
   "metadata": {},
   "outputs": [],
   "source": [
    "census = pd.read_csv('Dataset/salary_data.csv')"
   ]
  },
  {
   "cell_type": "code",
   "execution_count": 3,
   "metadata": {},
   "outputs": [
    {
     "data": {
      "text/html": [
       "<div>\n",
       "<style scoped>\n",
       "    .dataframe tbody tr th:only-of-type {\n",
       "        vertical-align: middle;\n",
       "    }\n",
       "\n",
       "    .dataframe tbody tr th {\n",
       "        vertical-align: top;\n",
       "    }\n",
       "\n",
       "    .dataframe thead th {\n",
       "        text-align: right;\n",
       "    }\n",
       "</style>\n",
       "<table border=\"1\" class=\"dataframe\">\n",
       "  <thead>\n",
       "    <tr style=\"text-align: right;\">\n",
       "      <th></th>\n",
       "      <th>age</th>\n",
       "      <th>workclass</th>\n",
       "      <th>education</th>\n",
       "      <th>educational_num</th>\n",
       "      <th>marital_status</th>\n",
       "      <th>occupation</th>\n",
       "      <th>relationship</th>\n",
       "      <th>race</th>\n",
       "      <th>gender</th>\n",
       "      <th>capital_gain</th>\n",
       "      <th>capital_loss</th>\n",
       "      <th>hours_per_week</th>\n",
       "      <th>native_country</th>\n",
       "      <th>income_bracket</th>\n",
       "    </tr>\n",
       "  </thead>\n",
       "  <tbody>\n",
       "    <tr>\n",
       "      <th>0</th>\n",
       "      <td>25</td>\n",
       "      <td>Private</td>\n",
       "      <td>11th</td>\n",
       "      <td>7</td>\n",
       "      <td>Never-married</td>\n",
       "      <td>Machine-op-inspct</td>\n",
       "      <td>Own-child</td>\n",
       "      <td>Black</td>\n",
       "      <td>Male</td>\n",
       "      <td>0</td>\n",
       "      <td>0</td>\n",
       "      <td>40</td>\n",
       "      <td>United-States</td>\n",
       "      <td>&lt;=50K</td>\n",
       "    </tr>\n",
       "    <tr>\n",
       "      <th>1</th>\n",
       "      <td>38</td>\n",
       "      <td>Private</td>\n",
       "      <td>HS-grad</td>\n",
       "      <td>9</td>\n",
       "      <td>Married-civ-spouse</td>\n",
       "      <td>Farming-fishing</td>\n",
       "      <td>Husband</td>\n",
       "      <td>White</td>\n",
       "      <td>Male</td>\n",
       "      <td>0</td>\n",
       "      <td>0</td>\n",
       "      <td>50</td>\n",
       "      <td>United-States</td>\n",
       "      <td>&lt;=50K</td>\n",
       "    </tr>\n",
       "    <tr>\n",
       "      <th>2</th>\n",
       "      <td>28</td>\n",
       "      <td>Local-gov</td>\n",
       "      <td>Assoc-acdm</td>\n",
       "      <td>12</td>\n",
       "      <td>Married-civ-spouse</td>\n",
       "      <td>Protective-serv</td>\n",
       "      <td>Husband</td>\n",
       "      <td>White</td>\n",
       "      <td>Male</td>\n",
       "      <td>0</td>\n",
       "      <td>0</td>\n",
       "      <td>40</td>\n",
       "      <td>United-States</td>\n",
       "      <td>&gt;50K</td>\n",
       "    </tr>\n",
       "    <tr>\n",
       "      <th>3</th>\n",
       "      <td>44</td>\n",
       "      <td>Private</td>\n",
       "      <td>Some-college</td>\n",
       "      <td>10</td>\n",
       "      <td>Married-civ-spouse</td>\n",
       "      <td>Machine-op-inspct</td>\n",
       "      <td>Husband</td>\n",
       "      <td>Black</td>\n",
       "      <td>Male</td>\n",
       "      <td>7688</td>\n",
       "      <td>0</td>\n",
       "      <td>40</td>\n",
       "      <td>United-States</td>\n",
       "      <td>&gt;50K</td>\n",
       "    </tr>\n",
       "    <tr>\n",
       "      <th>4</th>\n",
       "      <td>18</td>\n",
       "      <td>?</td>\n",
       "      <td>Some-college</td>\n",
       "      <td>10</td>\n",
       "      <td>Never-married</td>\n",
       "      <td>?</td>\n",
       "      <td>Own-child</td>\n",
       "      <td>White</td>\n",
       "      <td>Female</td>\n",
       "      <td>0</td>\n",
       "      <td>0</td>\n",
       "      <td>30</td>\n",
       "      <td>United-States</td>\n",
       "      <td>&lt;=50K</td>\n",
       "    </tr>\n",
       "  </tbody>\n",
       "</table>\n",
       "</div>"
      ],
      "text/plain": [
       "   age  workclass     education  educational_num      marital_status  \\\n",
       "0   25    Private          11th                7       Never-married   \n",
       "1   38    Private       HS-grad                9  Married-civ-spouse   \n",
       "2   28  Local-gov    Assoc-acdm               12  Married-civ-spouse   \n",
       "3   44    Private  Some-college               10  Married-civ-spouse   \n",
       "4   18          ?  Some-college               10       Never-married   \n",
       "\n",
       "          occupation relationship   race  gender  capital_gain  capital_loss  \\\n",
       "0  Machine-op-inspct    Own-child  Black    Male             0             0   \n",
       "1    Farming-fishing      Husband  White    Male             0             0   \n",
       "2    Protective-serv      Husband  White    Male             0             0   \n",
       "3  Machine-op-inspct      Husband  Black    Male          7688             0   \n",
       "4                  ?    Own-child  White  Female             0             0   \n",
       "\n",
       "   hours_per_week native_country income_bracket  \n",
       "0              40  United-States          <=50K  \n",
       "1              50  United-States          <=50K  \n",
       "2              40  United-States           >50K  \n",
       "3              40  United-States           >50K  \n",
       "4              30  United-States          <=50K  "
      ]
     },
     "execution_count": 3,
     "metadata": {},
     "output_type": "execute_result"
    }
   ],
   "source": [
    "census.head()"
   ]
  },
  {
   "cell_type": "code",
   "execution_count": 4,
   "metadata": {},
   "outputs": [
    {
     "data": {
      "text/plain": [
       "array(['<=50K', '>50K'], dtype=object)"
      ]
     },
     "execution_count": 4,
     "metadata": {},
     "output_type": "execute_result"
    }
   ],
   "source": [
    "# Unique value determine\n",
    "census['income_bracket'].unique()"
   ]
  },
  {
   "cell_type": "code",
   "execution_count": 5,
   "metadata": {},
   "outputs": [],
   "source": [
    "def label_fix(label):\n",
    "    if label == '<=50K':\n",
    "        return 0\n",
    "    else:\n",
    "        return 1"
   ]
  },
  {
   "cell_type": "code",
   "execution_count": 6,
   "metadata": {},
   "outputs": [],
   "source": [
    "# Labeled data convert to 0 or 1 by label_fix(label) function\n",
    "census['income_bracket'] = census['income_bracket'].apply(label_fix)"
   ]
  },
  {
   "cell_type": "code",
   "execution_count": 7,
   "metadata": {},
   "outputs": [
    {
     "data": {
      "text/html": [
       "<div>\n",
       "<style scoped>\n",
       "    .dataframe tbody tr th:only-of-type {\n",
       "        vertical-align: middle;\n",
       "    }\n",
       "\n",
       "    .dataframe tbody tr th {\n",
       "        vertical-align: top;\n",
       "    }\n",
       "\n",
       "    .dataframe thead th {\n",
       "        text-align: right;\n",
       "    }\n",
       "</style>\n",
       "<table border=\"1\" class=\"dataframe\">\n",
       "  <thead>\n",
       "    <tr style=\"text-align: right;\">\n",
       "      <th></th>\n",
       "      <th>age</th>\n",
       "      <th>workclass</th>\n",
       "      <th>education</th>\n",
       "      <th>educational_num</th>\n",
       "      <th>marital_status</th>\n",
       "      <th>occupation</th>\n",
       "      <th>relationship</th>\n",
       "      <th>race</th>\n",
       "      <th>gender</th>\n",
       "      <th>capital_gain</th>\n",
       "      <th>capital_loss</th>\n",
       "      <th>hours_per_week</th>\n",
       "      <th>native_country</th>\n",
       "      <th>income_bracket</th>\n",
       "    </tr>\n",
       "  </thead>\n",
       "  <tbody>\n",
       "    <tr>\n",
       "      <th>0</th>\n",
       "      <td>25</td>\n",
       "      <td>Private</td>\n",
       "      <td>11th</td>\n",
       "      <td>7</td>\n",
       "      <td>Never-married</td>\n",
       "      <td>Machine-op-inspct</td>\n",
       "      <td>Own-child</td>\n",
       "      <td>Black</td>\n",
       "      <td>Male</td>\n",
       "      <td>0</td>\n",
       "      <td>0</td>\n",
       "      <td>40</td>\n",
       "      <td>United-States</td>\n",
       "      <td>0</td>\n",
       "    </tr>\n",
       "    <tr>\n",
       "      <th>1</th>\n",
       "      <td>38</td>\n",
       "      <td>Private</td>\n",
       "      <td>HS-grad</td>\n",
       "      <td>9</td>\n",
       "      <td>Married-civ-spouse</td>\n",
       "      <td>Farming-fishing</td>\n",
       "      <td>Husband</td>\n",
       "      <td>White</td>\n",
       "      <td>Male</td>\n",
       "      <td>0</td>\n",
       "      <td>0</td>\n",
       "      <td>50</td>\n",
       "      <td>United-States</td>\n",
       "      <td>0</td>\n",
       "    </tr>\n",
       "    <tr>\n",
       "      <th>2</th>\n",
       "      <td>28</td>\n",
       "      <td>Local-gov</td>\n",
       "      <td>Assoc-acdm</td>\n",
       "      <td>12</td>\n",
       "      <td>Married-civ-spouse</td>\n",
       "      <td>Protective-serv</td>\n",
       "      <td>Husband</td>\n",
       "      <td>White</td>\n",
       "      <td>Male</td>\n",
       "      <td>0</td>\n",
       "      <td>0</td>\n",
       "      <td>40</td>\n",
       "      <td>United-States</td>\n",
       "      <td>1</td>\n",
       "    </tr>\n",
       "    <tr>\n",
       "      <th>3</th>\n",
       "      <td>44</td>\n",
       "      <td>Private</td>\n",
       "      <td>Some-college</td>\n",
       "      <td>10</td>\n",
       "      <td>Married-civ-spouse</td>\n",
       "      <td>Machine-op-inspct</td>\n",
       "      <td>Husband</td>\n",
       "      <td>Black</td>\n",
       "      <td>Male</td>\n",
       "      <td>7688</td>\n",
       "      <td>0</td>\n",
       "      <td>40</td>\n",
       "      <td>United-States</td>\n",
       "      <td>1</td>\n",
       "    </tr>\n",
       "    <tr>\n",
       "      <th>4</th>\n",
       "      <td>18</td>\n",
       "      <td>?</td>\n",
       "      <td>Some-college</td>\n",
       "      <td>10</td>\n",
       "      <td>Never-married</td>\n",
       "      <td>?</td>\n",
       "      <td>Own-child</td>\n",
       "      <td>White</td>\n",
       "      <td>Female</td>\n",
       "      <td>0</td>\n",
       "      <td>0</td>\n",
       "      <td>30</td>\n",
       "      <td>United-States</td>\n",
       "      <td>0</td>\n",
       "    </tr>\n",
       "  </tbody>\n",
       "</table>\n",
       "</div>"
      ],
      "text/plain": [
       "   age  workclass     education  educational_num      marital_status  \\\n",
       "0   25    Private          11th                7       Never-married   \n",
       "1   38    Private       HS-grad                9  Married-civ-spouse   \n",
       "2   28  Local-gov    Assoc-acdm               12  Married-civ-spouse   \n",
       "3   44    Private  Some-college               10  Married-civ-spouse   \n",
       "4   18          ?  Some-college               10       Never-married   \n",
       "\n",
       "          occupation relationship   race  gender  capital_gain  capital_loss  \\\n",
       "0  Machine-op-inspct    Own-child  Black    Male             0             0   \n",
       "1    Farming-fishing      Husband  White    Male             0             0   \n",
       "2    Protective-serv      Husband  White    Male             0             0   \n",
       "3  Machine-op-inspct      Husband  Black    Male          7688             0   \n",
       "4                  ?    Own-child  White  Female             0             0   \n",
       "\n",
       "   hours_per_week native_country  income_bracket  \n",
       "0              40  United-States               0  \n",
       "1              50  United-States               0  \n",
       "2              40  United-States               1  \n",
       "3              40  United-States               1  \n",
       "4              30  United-States               0  "
      ]
     },
     "execution_count": 7,
     "metadata": {},
     "output_type": "execute_result"
    }
   ],
   "source": [
    "census.head()"
   ]
  },
  {
   "cell_type": "code",
   "execution_count": 8,
   "metadata": {},
   "outputs": [],
   "source": [
    "x_data = census.drop('income_bracket',axis=1)\n",
    "y_labels = census['income_bracket']"
   ]
  },
  {
   "cell_type": "code",
   "execution_count": 9,
   "metadata": {},
   "outputs": [],
   "source": [
    "x_train,x_test,y_train,y_test=train_test_split(x_data,y_labels,test_size=0.3,random_state=101)"
   ]
  },
  {
   "cell_type": "code",
   "execution_count": 10,
   "metadata": {},
   "outputs": [
    {
     "data": {
      "text/plain": [
       "Index(['age', 'workclass', 'education', 'educational_num', 'marital_status',\n",
       "       'occupation', 'relationship', 'race', 'gender', 'capital_gain',\n",
       "       'capital_loss', 'hours_per_week', 'native_country', 'income_bracket'],\n",
       "      dtype='object')"
      ]
     },
     "execution_count": 10,
     "metadata": {},
     "output_type": "execute_result"
    }
   ],
   "source": [
    "census.columns"
   ]
  },
  {
   "cell_type": "code",
   "execution_count": 11,
   "metadata": {},
   "outputs": [],
   "source": [
    "# Categorical column\n",
    "gender = tf.feature_column.categorical_column_with_vocabulary_list(\"gender\",[\"Female\",\"Male\"])\n",
    "occupation = tf.feature_column.categorical_column_with_hash_bucket(\"occupation\",hash_bucket_size=1000)\n",
    "marital_status = tf.feature_column.categorical_column_with_hash_bucket(\"marital_status\",hash_bucket_size=1000)\n",
    "relationship = tf.feature_column.categorical_column_with_hash_bucket(\"relationship\",hash_bucket_size=1000)\n",
    "education = tf.feature_column.categorical_column_with_hash_bucket(\"education\",hash_bucket_size=1000)\n",
    "workclass = tf.feature_column.categorical_column_with_hash_bucket(\"workclass\",hash_bucket_size=1000)\n",
    "native_country = tf.feature_column.categorical_column_with_hash_bucket(\"native_country\",hash_bucket_size=1000)"
   ]
  },
  {
   "cell_type": "code",
   "execution_count": 12,
   "metadata": {},
   "outputs": [],
   "source": [
    "# Numerical Column\n",
    "age = tf.feature_column.numeric_column(\"age\")\n",
    "education_num = tf.feature_column.numeric_column(\"educational_num\")\n",
    "capital_gain = tf.feature_column.numeric_column(\"capital_gain\")\n",
    "capital_loss = tf.feature_column.numeric_column(\"capital_loss\")\n",
    "hours_per_week = tf.feature_column.numeric_column(\"hours_per_week\")"
   ]
  },
  {
   "cell_type": "code",
   "execution_count": 13,
   "metadata": {},
   "outputs": [],
   "source": [
    "feat_cols = [gender,occupation,marital_status,relationship,education,workclass,native_country,age,education_num,capital_gain,capital_loss,hours_per_week]"
   ]
  },
  {
   "cell_type": "code",
   "execution_count": 14,
   "metadata": {},
   "outputs": [],
   "source": [
    "input_func = tf.compat.v1.estimator.inputs.pandas_input_fn(x=x_train,y=y_train,batch_size=100,num_epochs=None,shuffle=True)"
   ]
  },
  {
   "cell_type": "code",
   "execution_count": 15,
   "metadata": {},
   "outputs": [
    {
     "name": "stdout",
     "output_type": "stream",
     "text": [
      "INFO:tensorflow:Using default config.\n",
      "WARNING:tensorflow:Using temporary folder as model directory: C:\\Users\\ashik\\AppData\\Local\\Temp\\tmp79vklij6\n",
      "INFO:tensorflow:Using config: {'_model_dir': 'C:\\\\Users\\\\ashik\\\\AppData\\\\Local\\\\Temp\\\\tmp79vklij6', '_tf_random_seed': None, '_save_summary_steps': 100, '_save_checkpoints_steps': None, '_save_checkpoints_secs': 600, '_session_config': allow_soft_placement: true\n",
      "graph_options {\n",
      "  rewrite_options {\n",
      "    meta_optimizer_iterations: ONE\n",
      "  }\n",
      "}\n",
      ", '_keep_checkpoint_max': 5, '_keep_checkpoint_every_n_hours': 10000, '_log_step_count_steps': 100, '_train_distribute': None, '_device_fn': None, '_protocol': None, '_eval_distribute': None, '_experimental_distribute': None, '_experimental_max_worker_delay_secs': None, '_session_creation_timeout_secs': 7200, '_service': None, '_cluster_spec': <tensorflow.python.training.server_lib.ClusterSpec object at 0x000002444ECD5788>, '_task_type': 'worker', '_task_id': 0, '_global_id_in_cluster': 0, '_master': '', '_evaluation_master': '', '_is_chief': True, '_num_ps_replicas': 0, '_num_worker_replicas': 1}\n"
     ]
    }
   ],
   "source": [
    "model = tf.compat.v1.estimator.LinearClassifier(feature_columns=feat_cols)"
   ]
  },
  {
   "cell_type": "code",
   "execution_count": 16,
   "metadata": {},
   "outputs": [
    {
     "name": "stdout",
     "output_type": "stream",
     "text": [
      "WARNING:tensorflow:From C:\\Users\\ashik\\anaconda3\\lib\\site-packages\\tensorflow_core\\python\\ops\\resource_variable_ops.py:1630: calling BaseResourceVariable.__init__ (from tensorflow.python.ops.resource_variable_ops) with constraint is deprecated and will be removed in a future version.\n",
      "Instructions for updating:\n",
      "If using Keras pass *_constraint arguments to layers.\n",
      "WARNING:tensorflow:From C:\\Users\\ashik\\anaconda3\\lib\\site-packages\\tensorflow_core\\python\\training\\training_util.py:236: Variable.initialized_value (from tensorflow.python.ops.variables) is deprecated and will be removed in a future version.\n",
      "Instructions for updating:\n",
      "Use Variable.read_value. Variables in 2.X are initialized automatically both in eager and graph (inside tf.defun) contexts.\n",
      "WARNING:tensorflow:From C:\\Users\\ashik\\anaconda3\\lib\\site-packages\\tensorflow_estimator\\python\\estimator\\inputs\\queues\\feeding_queue_runner.py:62: QueueRunner.__init__ (from tensorflow.python.training.queue_runner_impl) is deprecated and will be removed in a future version.\n",
      "Instructions for updating:\n",
      "To construct input pipelines, use the `tf.data` module.\n",
      "WARNING:tensorflow:From C:\\Users\\ashik\\anaconda3\\lib\\site-packages\\tensorflow_estimator\\python\\estimator\\inputs\\queues\\feeding_functions.py:500: add_queue_runner (from tensorflow.python.training.queue_runner_impl) is deprecated and will be removed in a future version.\n",
      "Instructions for updating:\n",
      "To construct input pipelines, use the `tf.data` module.\n",
      "INFO:tensorflow:Calling model_fn.\n",
      "WARNING:tensorflow:From C:\\Users\\ashik\\anaconda3\\lib\\site-packages\\tensorflow_core\\python\\feature_column\\feature_column_v2.py:518: Layer.add_variable (from tensorflow.python.keras.engine.base_layer) is deprecated and will be removed in a future version.\n",
      "Instructions for updating:\n",
      "Please use `layer.add_weight` method instead.\n",
      "WARNING:tensorflow:From C:\\Users\\ashik\\anaconda3\\lib\\site-packages\\tensorflow_estimator\\python\\estimator\\canned\\linear.py:308: to_float (from tensorflow.python.ops.math_ops) is deprecated and will be removed in a future version.\n",
      "Instructions for updating:\n",
      "Use `tf.cast` instead.\n",
      "INFO:tensorflow:Done calling model_fn.\n",
      "INFO:tensorflow:Create CheckpointSaverHook.\n",
      "INFO:tensorflow:Graph was finalized.\n",
      "INFO:tensorflow:Running local_init_op.\n",
      "INFO:tensorflow:Done running local_init_op.\n",
      "WARNING:tensorflow:From C:\\Users\\ashik\\anaconda3\\lib\\site-packages\\tensorflow_core\\python\\training\\monitored_session.py:882: start_queue_runners (from tensorflow.python.training.queue_runner_impl) is deprecated and will be removed in a future version.\n",
      "Instructions for updating:\n",
      "To construct input pipelines, use the `tf.data` module.\n",
      "INFO:tensorflow:Saving checkpoints for 0 into C:\\Users\\ashik\\AppData\\Local\\Temp\\tmp79vklij6\\model.ckpt.\n",
      "INFO:tensorflow:loss = 69.31472, step = 0\n",
      "INFO:tensorflow:global_step/sec: 55.6516\n",
      "INFO:tensorflow:loss = 255.09431, step = 100 (1.806 sec)\n",
      "INFO:tensorflow:global_step/sec: 107.132\n",
      "INFO:tensorflow:loss = 99.19989, step = 200 (0.932 sec)\n",
      "INFO:tensorflow:global_step/sec: 95.0251\n",
      "INFO:tensorflow:loss = 59.901665, step = 300 (1.053 sec)\n",
      "INFO:tensorflow:global_step/sec: 99.3659\n",
      "INFO:tensorflow:loss = 577.1172, step = 400 (1.006 sec)\n",
      "INFO:tensorflow:global_step/sec: 94.4868\n",
      "INFO:tensorflow:loss = 179.08455, step = 500 (1.056 sec)\n",
      "INFO:tensorflow:global_step/sec: 109.716\n",
      "INFO:tensorflow:loss = 29.426598, step = 600 (0.912 sec)\n",
      "INFO:tensorflow:global_step/sec: 117.997\n",
      "INFO:tensorflow:loss = 674.82996, step = 700 (0.845 sec)\n",
      "INFO:tensorflow:global_step/sec: 116.758\n",
      "INFO:tensorflow:loss = 49.409576, step = 800 (0.859 sec)\n",
      "INFO:tensorflow:global_step/sec: 112.809\n",
      "INFO:tensorflow:loss = 197.96095, step = 900 (0.883 sec)\n",
      "INFO:tensorflow:global_step/sec: 124.61\n",
      "INFO:tensorflow:loss = 216.28271, step = 1000 (0.804 sec)\n",
      "INFO:tensorflow:global_step/sec: 129.446\n",
      "INFO:tensorflow:loss = 412.71835, step = 1100 (0.780 sec)\n",
      "INFO:tensorflow:global_step/sec: 123.077\n",
      "INFO:tensorflow:loss = 104.40745, step = 1200 (0.804 sec)\n",
      "INFO:tensorflow:global_step/sec: 126.34\n",
      "INFO:tensorflow:loss = 26.192274, step = 1300 (0.801 sec)\n",
      "INFO:tensorflow:global_step/sec: 128.779\n",
      "INFO:tensorflow:loss = 265.82126, step = 1400 (0.769 sec)\n",
      "INFO:tensorflow:global_step/sec: 126.66\n",
      "INFO:tensorflow:loss = 89.17276, step = 1500 (0.790 sec)\n",
      "INFO:tensorflow:global_step/sec: 126.982\n",
      "INFO:tensorflow:loss = 28.333366, step = 1600 (0.789 sec)\n",
      "INFO:tensorflow:global_step/sec: 133.06\n",
      "INFO:tensorflow:loss = 227.98843, step = 1700 (0.749 sec)\n",
      "INFO:tensorflow:global_step/sec: 133.415\n",
      "INFO:tensorflow:loss = 36.053383, step = 1800 (0.751 sec)\n",
      "INFO:tensorflow:global_step/sec: 127.629\n",
      "INFO:tensorflow:loss = 69.98766, step = 1900 (0.793 sec)\n",
      "INFO:tensorflow:global_step/sec: 113.965\n",
      "INFO:tensorflow:loss = 41.043373, step = 2000 (0.872 sec)\n",
      "INFO:tensorflow:global_step/sec: 115.278\n",
      "INFO:tensorflow:loss = 53.05955, step = 2100 (0.865 sec)\n",
      "INFO:tensorflow:global_step/sec: 113.836\n",
      "INFO:tensorflow:loss = 33.259483, step = 2200 (0.878 sec)\n",
      "INFO:tensorflow:global_step/sec: 113.577\n",
      "INFO:tensorflow:loss = 24.346031, step = 2300 (0.885 sec)\n",
      "INFO:tensorflow:global_step/sec: 124.3\n",
      "INFO:tensorflow:loss = 194.30917, step = 2400 (0.799 sec)\n",
      "INFO:tensorflow:global_step/sec: 119.691\n",
      "INFO:tensorflow:loss = 36.075817, step = 2500 (0.830 sec)\n",
      "INFO:tensorflow:global_step/sec: 116.622\n",
      "INFO:tensorflow:loss = 47.297462, step = 2600 (0.864 sec)\n",
      "INFO:tensorflow:global_step/sec: 126.181\n",
      "INFO:tensorflow:loss = 44.01312, step = 2700 (0.793 sec)\n",
      "INFO:tensorflow:global_step/sec: 126.34\n",
      "INFO:tensorflow:loss = 48.49152, step = 2800 (0.790 sec)\n",
      "INFO:tensorflow:global_step/sec: 124.455\n",
      "INFO:tensorflow:loss = 1568.2034, step = 2900 (0.806 sec)\n",
      "INFO:tensorflow:global_step/sec: 125.233\n",
      "INFO:tensorflow:loss = 99.123764, step = 3000 (0.794 sec)\n",
      "INFO:tensorflow:global_step/sec: 121.287\n",
      "INFO:tensorflow:loss = 39.23072, step = 3100 (0.827 sec)\n",
      "INFO:tensorflow:global_step/sec: 124.609\n",
      "INFO:tensorflow:loss = 40.07178, step = 3200 (0.804 sec)\n",
      "INFO:tensorflow:global_step/sec: 122.624\n",
      "INFO:tensorflow:loss = 66.96169, step = 3300 (0.818 sec)\n",
      "INFO:tensorflow:global_step/sec: 124.921\n",
      "INFO:tensorflow:loss = 87.39131, step = 3400 (0.799 sec)\n",
      "INFO:tensorflow:global_step/sec: 117.719\n",
      "INFO:tensorflow:loss = 29.839903, step = 3500 (0.850 sec)\n",
      "INFO:tensorflow:global_step/sec: 108.763\n",
      "INFO:tensorflow:loss = 55.21202, step = 3600 (0.924 sec)\n",
      "INFO:tensorflow:global_step/sec: 111.056\n",
      "INFO:tensorflow:loss = 107.54359, step = 3700 (0.892 sec)\n",
      "INFO:tensorflow:global_step/sec: 100.262\n",
      "INFO:tensorflow:loss = 29.416506, step = 3800 (0.998 sec)\n",
      "INFO:tensorflow:global_step/sec: 99.9614\n",
      "INFO:tensorflow:loss = 34.07759, step = 3900 (1.001 sec)\n",
      "INFO:tensorflow:global_step/sec: 83.6633\n",
      "INFO:tensorflow:loss = 32.261253, step = 4000 (1.197 sec)\n",
      "INFO:tensorflow:global_step/sec: 67.7925\n",
      "INFO:tensorflow:loss = 42.19177, step = 4100 (1.473 sec)\n",
      "INFO:tensorflow:global_step/sec: 86.4088\n",
      "INFO:tensorflow:loss = 87.32773, step = 4200 (1.158 sec)\n",
      "INFO:tensorflow:global_step/sec: 71.5747\n",
      "INFO:tensorflow:loss = 68.377464, step = 4300 (1.472 sec)\n",
      "INFO:tensorflow:global_step/sec: 67.1554\n",
      "INFO:tensorflow:loss = 25.204817, step = 4400 (1.458 sec)\n",
      "INFO:tensorflow:global_step/sec: 75.2342\n",
      "INFO:tensorflow:loss = 41.369644, step = 4500 (1.297 sec)\n",
      "INFO:tensorflow:global_step/sec: 97.3361\n",
      "INFO:tensorflow:loss = 34.017605, step = 4600 (1.011 sec)\n",
      "INFO:tensorflow:global_step/sec: 109.837\n",
      "INFO:tensorflow:loss = 52.030933, step = 4700 (0.912 sec)\n",
      "INFO:tensorflow:global_step/sec: 119.121\n",
      "INFO:tensorflow:loss = 50.35634, step = 4800 (0.838 sec)\n",
      "INFO:tensorflow:global_step/sec: 116.622\n",
      "INFO:tensorflow:loss = 31.109106, step = 4900 (0.856 sec)\n",
      "INFO:tensorflow:global_step/sec: 125.864\n",
      "INFO:tensorflow:loss = 46.866047, step = 5000 (0.797 sec)\n",
      "INFO:tensorflow:global_step/sec: 131.142\n",
      "INFO:tensorflow:loss = 28.38686, step = 5100 (0.758 sec)\n",
      "INFO:tensorflow:global_step/sec: 112.936\n",
      "INFO:tensorflow:loss = 61.780636, step = 5200 (0.893 sec)\n",
      "INFO:tensorflow:global_step/sec: 94.1313\n",
      "INFO:tensorflow:loss = 103.040504, step = 5300 (1.060 sec)\n",
      "INFO:tensorflow:global_step/sec: 108.175\n",
      "INFO:tensorflow:loss = 43.9072, step = 5400 (0.927 sec)\n",
      "INFO:tensorflow:global_step/sec: 126.181\n",
      "INFO:tensorflow:loss = 76.424194, step = 5500 (0.797 sec)\n"
     ]
    },
    {
     "name": "stdout",
     "output_type": "stream",
     "text": [
      "INFO:tensorflow:global_step/sec: 122.775\n",
      "INFO:tensorflow:loss = 41.005844, step = 5600 (0.812 sec)\n",
      "INFO:tensorflow:global_step/sec: 119.834\n",
      "INFO:tensorflow:loss = 28.004456, step = 5700 (0.829 sec)\n",
      "INFO:tensorflow:global_step/sec: 128.779\n",
      "INFO:tensorflow:loss = 54.868103, step = 5800 (0.777 sec)\n",
      "INFO:tensorflow:global_step/sec: 107.478\n",
      "INFO:tensorflow:loss = 31.046413, step = 5900 (0.939 sec)\n",
      "INFO:tensorflow:global_step/sec: 99.3658\n",
      "INFO:tensorflow:loss = 71.92926, step = 6000 (0.990 sec)\n",
      "INFO:tensorflow:global_step/sec: 79.5402\n",
      "INFO:tensorflow:loss = 56.84259, step = 6100 (1.263 sec)\n",
      "INFO:tensorflow:global_step/sec: 95.1154\n",
      "INFO:tensorflow:loss = 202.31058, step = 6200 (1.061 sec)\n",
      "INFO:tensorflow:global_step/sec: 107.478\n",
      "INFO:tensorflow:loss = 31.807005, step = 6300 (0.923 sec)\n",
      "INFO:tensorflow:global_step/sec: 120.556\n",
      "INFO:tensorflow:loss = 41.992268, step = 6400 (0.826 sec)\n",
      "INFO:tensorflow:global_step/sec: 126.66\n",
      "INFO:tensorflow:loss = 43.533306, step = 6500 (0.798 sec)\n",
      "INFO:tensorflow:global_step/sec: 117.581\n",
      "INFO:tensorflow:loss = 30.304102, step = 6600 (0.849 sec)\n",
      "INFO:tensorflow:global_step/sec: 96.3985\n",
      "INFO:tensorflow:loss = 32.84989, step = 6700 (1.034 sec)\n",
      "INFO:tensorflow:global_step/sec: 94.4867\n",
      "INFO:tensorflow:loss = 28.44778, step = 6800 (1.057 sec)\n",
      "INFO:tensorflow:global_step/sec: 122.474\n",
      "INFO:tensorflow:loss = 95.675545, step = 6900 (0.814 sec)\n",
      "INFO:tensorflow:global_step/sec: 123.533\n",
      "INFO:tensorflow:loss = 104.95088, step = 7000 (0.810 sec)\n",
      "INFO:tensorflow:global_step/sec: 115.946\n",
      "INFO:tensorflow:loss = 44.424187, step = 7100 (0.861 sec)\n",
      "INFO:tensorflow:global_step/sec: 118.838\n",
      "INFO:tensorflow:loss = 32.678326, step = 7200 (0.836 sec)\n",
      "INFO:tensorflow:global_step/sec: 118.416\n",
      "INFO:tensorflow:loss = 23.564054, step = 7300 (0.854 sec)\n",
      "INFO:tensorflow:global_step/sec: 117.443\n",
      "INFO:tensorflow:loss = 24.707842, step = 7400 (0.842 sec)\n",
      "INFO:tensorflow:global_step/sec: 112.051\n",
      "INFO:tensorflow:loss = 54.391075, step = 7500 (0.898 sec)\n",
      "INFO:tensorflow:global_step/sec: 113.706\n",
      "INFO:tensorflow:loss = 35.884617, step = 7600 (0.878 sec)\n",
      "INFO:tensorflow:global_step/sec: 120.556\n",
      "INFO:tensorflow:loss = 45.435867, step = 7700 (0.831 sec)\n",
      "INFO:tensorflow:global_step/sec: 112.302\n",
      "INFO:tensorflow:loss = 37.654747, step = 7800 (0.896 sec)\n",
      "INFO:tensorflow:global_step/sec: 118.697\n",
      "INFO:tensorflow:loss = 58.353863, step = 7900 (0.836 sec)\n",
      "INFO:tensorflow:global_step/sec: 118.136\n",
      "INFO:tensorflow:loss = 26.409729, step = 8000 (0.844 sec)\n",
      "INFO:tensorflow:global_step/sec: 113.577\n",
      "INFO:tensorflow:loss = 36.09138, step = 8100 (0.880 sec)\n",
      "INFO:tensorflow:global_step/sec: 119.834\n",
      "INFO:tensorflow:loss = 85.079926, step = 8200 (0.834 sec)\n",
      "INFO:tensorflow:global_step/sec: 122.775\n",
      "INFO:tensorflow:loss = 283.62228, step = 8300 (0.809 sec)\n",
      "INFO:tensorflow:global_step/sec: 130.289\n",
      "INFO:tensorflow:loss = 32.820747, step = 8400 (0.773 sec)\n",
      "INFO:tensorflow:global_step/sec: 128.779\n",
      "INFO:tensorflow:loss = 79.5876, step = 8500 (0.776 sec)\n",
      "INFO:tensorflow:global_step/sec: 133.061\n",
      "INFO:tensorflow:loss = 38.91488, step = 8600 (0.753 sec)\n",
      "INFO:tensorflow:global_step/sec: 133.772\n",
      "INFO:tensorflow:loss = 33.910316, step = 8700 (0.748 sec)\n",
      "INFO:tensorflow:global_step/sec: 124.455\n",
      "INFO:tensorflow:loss = 31.119528, step = 8800 (0.805 sec)\n",
      "INFO:tensorflow:global_step/sec: 125.863\n",
      "INFO:tensorflow:loss = 306.85162, step = 8900 (0.797 sec)\n",
      "INFO:tensorflow:global_step/sec: 111.551\n",
      "INFO:tensorflow:loss = 39.60171, step = 9000 (0.893 sec)\n",
      "INFO:tensorflow:global_step/sec: 117.581\n",
      "INFO:tensorflow:loss = 39.775124, step = 9100 (0.850 sec)\n",
      "INFO:tensorflow:global_step/sec: 124.455\n",
      "INFO:tensorflow:loss = 32.99823, step = 9200 (0.804 sec)\n",
      "INFO:tensorflow:global_step/sec: 130.629\n",
      "INFO:tensorflow:loss = 37.355885, step = 9300 (0.766 sec)\n",
      "INFO:tensorflow:global_step/sec: 84.9418\n",
      "INFO:tensorflow:loss = 31.61359, step = 9400 (1.178 sec)\n",
      "INFO:tensorflow:global_step/sec: 118.697\n",
      "INFO:tensorflow:loss = 32.988625, step = 9500 (0.843 sec)\n",
      "INFO:tensorflow:global_step/sec: 106.903\n",
      "INFO:tensorflow:loss = 39.30222, step = 9600 (0.935 sec)\n",
      "INFO:tensorflow:global_step/sec: 107.018\n",
      "INFO:tensorflow:loss = 22.275354, step = 9700 (0.933 sec)\n",
      "INFO:tensorflow:global_step/sec: 101.276\n",
      "INFO:tensorflow:loss = 63.337566, step = 9800 (0.989 sec)\n",
      "INFO:tensorflow:global_step/sec: 91.214\n",
      "INFO:tensorflow:loss = 22.96122, step = 9900 (1.093 sec)\n",
      "INFO:tensorflow:Saving checkpoints for 10000 into C:\\Users\\ashik\\AppData\\Local\\Temp\\tmp79vklij6\\model.ckpt.\n",
      "INFO:tensorflow:Loss for final step: 45.31968.\n"
     ]
    },
    {
     "data": {
      "text/plain": [
       "<tensorflow_estimator.python.estimator.canned.linear.LinearClassifier at 0x2444ecd5608>"
      ]
     },
     "execution_count": 16,
     "metadata": {},
     "output_type": "execute_result"
    }
   ],
   "source": [
    "model.train(input_fn=input_func,steps=10000)"
   ]
  },
  {
   "cell_type": "code",
   "execution_count": 17,
   "metadata": {},
   "outputs": [],
   "source": [
    "pred_fun = tf.compat.v1.estimator.inputs.pandas_input_fn(x=x_test,batch_size=len(x_test),shuffle=False)"
   ]
  },
  {
   "cell_type": "code",
   "execution_count": 18,
   "metadata": {},
   "outputs": [
    {
     "name": "stdout",
     "output_type": "stream",
     "text": [
      "INFO:tensorflow:Calling model_fn.\n",
      "INFO:tensorflow:Done calling model_fn.\n",
      "INFO:tensorflow:Graph was finalized.\n",
      "INFO:tensorflow:Restoring parameters from C:\\Users\\ashik\\AppData\\Local\\Temp\\tmp79vklij6\\model.ckpt-10000\n",
      "INFO:tensorflow:Running local_init_op.\n",
      "INFO:tensorflow:Done running local_init_op.\n"
     ]
    }
   ],
   "source": [
    "prediction = list(model.predict(input_fn=pred_fun))"
   ]
  },
  {
   "cell_type": "code",
   "execution_count": 19,
   "metadata": {},
   "outputs": [
    {
     "data": {
      "text/plain": [
       "{'logits': array([-7.2145414], dtype=float32),\n",
       " 'logistic': array([0.00073525], dtype=float32),\n",
       " 'probabilities': array([9.9926478e-01, 7.3526695e-04], dtype=float32),\n",
       " 'class_ids': array([0], dtype=int64),\n",
       " 'classes': array([b'0'], dtype=object),\n",
       " 'all_class_ids': array([0, 1]),\n",
       " 'all_classes': array([b'0', b'1'], dtype=object)}"
      ]
     },
     "execution_count": 19,
     "metadata": {},
     "output_type": "execute_result"
    }
   ],
   "source": [
    "prediction[0]"
   ]
  },
  {
   "cell_type": "code",
   "execution_count": 20,
   "metadata": {},
   "outputs": [],
   "source": [
    "final_preds=[]\n",
    "for pred in prediction:\n",
    "    final_preds.append(pred['class_ids'][0])"
   ]
  },
  {
   "cell_type": "code",
   "execution_count": 21,
   "metadata": {},
   "outputs": [
    {
     "data": {
      "text/plain": [
       "[0, 0, 0, 0, 0, 0, 0, 0, 1, 0]"
      ]
     },
     "execution_count": 21,
     "metadata": {},
     "output_type": "execute_result"
    }
   ],
   "source": [
    "final_preds[:10] # Starting ten values"
   ]
  },
  {
   "cell_type": "code",
   "execution_count": 22,
   "metadata": {},
   "outputs": [
    {
     "name": "stdout",
     "output_type": "stream",
     "text": [
      "              precision    recall  f1-score   support\n",
      "\n",
      "           0       0.89      0.91      0.90     11122\n",
      "           1       0.70      0.63      0.66      3531\n",
      "\n",
      "    accuracy                           0.84     14653\n",
      "   macro avg       0.79      0.77      0.78     14653\n",
      "weighted avg       0.84      0.84      0.84     14653\n",
      "\n"
     ]
    }
   ],
   "source": [
    "print(classification_report(y_test,final_preds))"
   ]
  },
  {
   "cell_type": "code",
   "execution_count": null,
   "metadata": {},
   "outputs": [],
   "source": []
  }
 ],
 "metadata": {
  "kernelspec": {
   "display_name": "Python 3",
   "language": "python",
   "name": "python3"
  },
  "language_info": {
   "codemirror_mode": {
    "name": "ipython",
    "version": 3
   },
   "file_extension": ".py",
   "mimetype": "text/x-python",
   "name": "python",
   "nbconvert_exporter": "python",
   "pygments_lexer": "ipython3",
   "version": "3.7.6"
  }
 },
 "nbformat": 4,
 "nbformat_minor": 4
}
