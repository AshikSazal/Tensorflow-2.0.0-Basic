{
 "cells": [
  {
   "cell_type": "code",
   "execution_count": 1,
   "metadata": {},
   "outputs": [],
   "source": [
    "import tensorflow as tf\n",
    "import numpy as np\n",
    "tf.compat.v1.disable_eager_execution()"
   ]
  },
  {
   "cell_type": "code",
   "execution_count": 2,
   "metadata": {},
   "outputs": [],
   "source": [
    "# help to crate sample\n",
    "np.random.seed(101)\n",
    "tf.compat.v1.set_random_seed(101)"
   ]
  },
  {
   "cell_type": "code",
   "execution_count": 3,
   "metadata": {},
   "outputs": [
    {
     "name": "stdout",
     "output_type": "stream",
     "text": [
      "[[51.63986277 57.06675869  2.84742265 17.15216562 68.52769817]\n",
      " [83.38968626 30.69662197 89.36130797 72.15438618 18.99389542]\n",
      " [55.42275911 35.2131954  18.18924027 78.56017619 96.54832224]\n",
      " [23.23536618  8.35614337 60.35484223 72.89927573 27.62388285]\n",
      " [68.53063288 51.78674742  4.84845374 13.78692376 18.69674261]]\n"
     ]
    }
   ],
   "source": [
    "rand_a=np.random.uniform(0,100,(5,5))\n",
    "print(rand_a)"
   ]
  },
  {
   "cell_type": "code",
   "execution_count": 4,
   "metadata": {},
   "outputs": [
    {
     "name": "stdout",
     "output_type": "stream",
     "text": [
      "[[99.43179012 52.06653967 57.87895355 73.48190583 54.19617722]\n",
      " [91.31535577 80.7920151  40.29978307 35.72243428 95.28767147]\n",
      " [34.36315779 86.50998163 83.02777122 53.81614492 92.24693726]\n",
      " [ 9.71464798 10.28474932 70.15072957 89.04798691 15.95603009]\n",
      " [27.55725449 67.24915297 16.4303124  70.13711366 48.76352222]]\n"
     ]
    }
   ],
   "source": [
    "rand_b=np.random.uniform(0,100,(5,5))\n",
    "print(rand_b)"
   ]
  },
  {
   "cell_type": "code",
   "execution_count": 5,
   "metadata": {},
   "outputs": [],
   "source": [
    "a=tf.compat.v1.placeholder(tf.float32)\n",
    "b=tf.compat.v1.placeholder(tf.float32) # placeholder mainly used for pass the data\n",
    "# A placeholder is simply a variable that we will assign data to at a later date"
   ]
  },
  {
   "cell_type": "code",
   "execution_count": 6,
   "metadata": {},
   "outputs": [],
   "source": [
    "add=a+b\n",
    "mul=a*b"
   ]
  },
  {
   "cell_type": "code",
   "execution_count": 7,
   "metadata": {},
   "outputs": [
    {
     "name": "stdout",
     "output_type": "stream",
     "text": [
      "[[151.07166  109.1333    60.726376  90.63407  122.72388 ]\n",
      " [174.70505  111.48864  129.66109  107.87682  114.28157 ]\n",
      " [ 89.78592  121.723175 101.21701  132.37631  188.79526 ]\n",
      " [ 32.950016  18.640892 130.50557  161.94727   43.57991 ]\n",
      " [ 96.08789  119.035904  21.278767  83.92404   67.460266]] \n",
      "\n",
      " [[5134.644    2971.2686    164.80583  1260.3738   3713.9392  ]\n",
      " [7614.759    2480.042    3601.2412   2577.5305   1809.884   ]\n",
      " [1904.5011   3046.2927   1510.212    4227.8057   8906.287   ]\n",
      " [ 225.72342    85.940834 4233.936    6491.534     440.7675  ]\n",
      " [1888.5161   3482.615      79.661606  966.97504   911.71906 ]]\n"
     ]
    }
   ],
   "source": [
    "with tf.compat.v1.Session() as sess:\n",
    "    add_result=sess.run(add,feed_dict={a:rand_a,b:rand_b})\n",
    "    mul_result=sess.run(mul,feed_dict={a:rand_a,b:rand_b})\n",
    "    \n",
    "print(add_result,\"\\n\\n\",mul_result)"
   ]
  },
  {
   "cell_type": "code",
   "execution_count": 8,
   "metadata": {},
   "outputs": [
    {
     "name": "stdout",
     "output_type": "stream",
     "text": [
      "WARNING:tensorflow:From C:\\Users\\ashik\\anaconda3\\lib\\site-packages\\tensorflow_core\\python\\ops\\resource_variable_ops.py:1630: calling BaseResourceVariable.__init__ (from tensorflow.python.ops.resource_variable_ops) with constraint is deprecated and will be removed in a future version.\n",
      "Instructions for updating:\n",
      "If using Keras pass *_constraint arguments to layers.\n",
      "[1 2]\n",
      "\n",
      "\n",
      "[1 2]\n"
     ]
    }
   ],
   "source": [
    "v = tf.Variable([1, 2])\n",
    "init = tf.compat.v1.global_variables_initializer()\n",
    "\n",
    "with tf.compat.v1.Session() as sess:\n",
    "    sess.run(init)\n",
    "    # Usage passing the session explicitly.\n",
    "    print(v.eval(sess))\n",
    "    print(\"\\n\")\n",
    "    # Usage with the default session.  The 'with' block\n",
    "    # above makes 'sess' the default session.\n",
    "    print(v.eval())"
   ]
  },
  {
   "cell_type": "code",
   "execution_count": null,
   "metadata": {},
   "outputs": [],
   "source": []
  }
 ],
 "metadata": {
  "kernelspec": {
   "display_name": "Python 3",
   "language": "python",
   "name": "python3"
  },
  "language_info": {
   "codemirror_mode": {
    "name": "ipython",
    "version": 3
   },
   "file_extension": ".py",
   "mimetype": "text/x-python",
   "name": "python",
   "nbconvert_exporter": "python",
   "pygments_lexer": "ipython3",
   "version": "3.7.6"
  }
 },
 "nbformat": 4,
 "nbformat_minor": 4
}
